{
 "cells": [
  {
   "cell_type": "markdown",
   "id": "33771b9f-5fe7-444a-a294-44e4237fea5a",
   "metadata": {},
   "source": [
    "## Sourcing Data with an API"
   ]
  },
  {
   "cell_type": "markdown",
   "id": "30910689-3145-409d-8d24-93e84a1e0f64",
   "metadata": {},
   "source": [
    "### Import and concatenate"
   ]
  },
  {
   "cell_type": "code",
   "execution_count": 4,
   "id": "fca4cb77-eb7b-4299-b19f-f22134bf9996",
   "metadata": {},
   "outputs": [],
   "source": [
    "import pandas as pd\n",
    "import numpy as np\n",
    "import os\n",
    "import requests\n",
    "import json\n",
    "from datetime import datetime"
   ]
  },
  {
   "cell_type": "code",
   "execution_count": 5,
   "id": "d087c58b-c3f5-4e99-813b-b6f9a94b4436",
   "metadata": {},
   "outputs": [],
   "source": [
    "# Create a list with all files in the folder using a list comprehension\n",
    "\n",
    "folderpath = r\"/Users/gideon/Desktop/DivvyBikes2022\" # make sure to put the 'r' in front\n",
    "filepaths = [os.path.join(folderpath, name) for name in os.listdir(folderpath)]"
   ]
  },
  {
   "cell_type": "code",
   "execution_count": 6,
   "id": "fe5a5434-a1cf-4a1c-93ae-9409ef625921",
   "metadata": {},
   "outputs": [
    {
     "data": {
      "text/plain": [
       "['/Users/gideon/Desktop/DivvyBikes2022/JC-202203-citibike-tripdata.csv',\n",
       " '/Users/gideon/Desktop/DivvyBikes2022/JC-202201-citibike-tripdata.csv',\n",
       " '/Users/gideon/Desktop/DivvyBikes2022/JC-202111-citibike-tripdata.csv',\n",
       " '/Users/gideon/Desktop/DivvyBikes2022/JC-202107-citibike-tripdata.csv',\n",
       " '/Users/gideon/Desktop/DivvyBikes2022/JC-202209-citibike-tripdata.csv',\n",
       " '/Users/gideon/Desktop/DivvyBikes2022/JC-202109-citibike-tripdata.csv',\n",
       " '/Users/gideon/Desktop/DivvyBikes2022/JC-202211-citibike-tripdata.csv',\n",
       " '/Users/gideon/Desktop/DivvyBikes2022/JC-202207-citbike-tripdata.csv',\n",
       " '/Users/gideon/Desktop/DivvyBikes2022/JC-202205-citibike-tripdata.csv',\n",
       " '/Users/gideon/Desktop/DivvyBikes2022/JC-202112-citibike-tripdata.csv',\n",
       " '/Users/gideon/Desktop/DivvyBikes2022/JC-202202-citibike-tripdata.csv',\n",
       " '/Users/gideon/Desktop/DivvyBikes2022/JC-202208-citibike-tripdata.csv',\n",
       " '/Users/gideon/Desktop/DivvyBikes2022/JC-202106-citibike-tripdata.csv',\n",
       " '/Users/gideon/Desktop/DivvyBikes2022/JC-202110-citibike-tripdata.csv',\n",
       " '/Users/gideon/Desktop/DivvyBikes2022/JC-202206-citibike-tripdata.csv',\n",
       " '/Users/gideon/Desktop/DivvyBikes2022/JC-202210-citibike-tripdata.csv',\n",
       " '/Users/gideon/Desktop/DivvyBikes2022/JC-202108-citibike-tripdata.csv',\n",
       " '/Users/gideon/Desktop/DivvyBikes2022/JC-202204-citibike-tripdata.csv']"
      ]
     },
     "execution_count": 6,
     "metadata": {},
     "output_type": "execute_result"
    }
   ],
   "source": [
    "filepaths"
   ]
  },
  {
   "cell_type": "code",
   "execution_count": 7,
   "id": "c6946364-b65a-499f-a7b3-70768b0b21f4",
   "metadata": {},
   "outputs": [],
   "source": [
    "# Read and concatenate all files simultaneously\n",
    "\n",
    "df = pd.concat((pd.read_csv(f) for f in filepaths), ignore_index = True)"
   ]
  },
  {
   "cell_type": "code",
   "execution_count": 8,
   "id": "6c937646-84c1-4af7-b46f-26f9fee20d68",
   "metadata": {},
   "outputs": [
    {
     "data": {
      "text/plain": [
       "(1388898, 13)"
      ]
     },
     "execution_count": 8,
     "metadata": {},
     "output_type": "execute_result"
    }
   ],
   "source": [
    "df.shape"
   ]
  },
  {
   "cell_type": "code",
   "execution_count": 9,
   "id": "72390048-edf2-4768-8c3d-b8957339e285",
   "metadata": {},
   "outputs": [
    {
     "data": {
      "text/html": [
       "<div>\n",
       "<style scoped>\n",
       "    .dataframe tbody tr th:only-of-type {\n",
       "        vertical-align: middle;\n",
       "    }\n",
       "\n",
       "    .dataframe tbody tr th {\n",
       "        vertical-align: top;\n",
       "    }\n",
       "\n",
       "    .dataframe thead th {\n",
       "        text-align: right;\n",
       "    }\n",
       "</style>\n",
       "<table border=\"1\" class=\"dataframe\">\n",
       "  <thead>\n",
       "    <tr style=\"text-align: right;\">\n",
       "      <th></th>\n",
       "      <th>ride_id</th>\n",
       "      <th>rideable_type</th>\n",
       "      <th>started_at</th>\n",
       "      <th>ended_at</th>\n",
       "      <th>start_station_name</th>\n",
       "      <th>start_station_id</th>\n",
       "      <th>end_station_name</th>\n",
       "      <th>end_station_id</th>\n",
       "      <th>start_lat</th>\n",
       "      <th>start_lng</th>\n",
       "      <th>end_lat</th>\n",
       "      <th>end_lng</th>\n",
       "      <th>member_casual</th>\n",
       "    </tr>\n",
       "  </thead>\n",
       "  <tbody>\n",
       "    <tr>\n",
       "      <th>0</th>\n",
       "      <td>3255D3E3F33CDC45</td>\n",
       "      <td>classic_bike</td>\n",
       "      <td>2022-03-18 15:38:17</td>\n",
       "      <td>2022-03-18 15:45:34</td>\n",
       "      <td>Mama Johnson Field - 4 St &amp; Jackson St</td>\n",
       "      <td>HB404</td>\n",
       "      <td>South Waterfront Walkway - Sinatra Dr &amp; 1 St</td>\n",
       "      <td>HB103</td>\n",
       "      <td>40.743140</td>\n",
       "      <td>-74.040041</td>\n",
       "      <td>40.736982</td>\n",
       "      <td>-74.027781</td>\n",
       "      <td>casual</td>\n",
       "    </tr>\n",
       "    <tr>\n",
       "      <th>1</th>\n",
       "      <td>17FA5604A37338F9</td>\n",
       "      <td>electric_bike</td>\n",
       "      <td>2022-03-04 16:44:48</td>\n",
       "      <td>2022-03-04 16:50:45</td>\n",
       "      <td>Baldwin at Montgomery</td>\n",
       "      <td>JC020</td>\n",
       "      <td>Grove St PATH</td>\n",
       "      <td>JC005</td>\n",
       "      <td>40.723659</td>\n",
       "      <td>-74.064194</td>\n",
       "      <td>40.719586</td>\n",
       "      <td>-74.043117</td>\n",
       "      <td>member</td>\n",
       "    </tr>\n",
       "    <tr>\n",
       "      <th>2</th>\n",
       "      <td>7DEC9ADDB8D6BBE1</td>\n",
       "      <td>electric_bike</td>\n",
       "      <td>2022-03-13 17:44:32</td>\n",
       "      <td>2022-03-13 17:54:44</td>\n",
       "      <td>Baldwin at Montgomery</td>\n",
       "      <td>JC020</td>\n",
       "      <td>Grove St PATH</td>\n",
       "      <td>JC005</td>\n",
       "      <td>40.723659</td>\n",
       "      <td>-74.064194</td>\n",
       "      <td>40.719586</td>\n",
       "      <td>-74.043117</td>\n",
       "      <td>member</td>\n",
       "    </tr>\n",
       "    <tr>\n",
       "      <th>3</th>\n",
       "      <td>9D69F74EEF231A2E</td>\n",
       "      <td>classic_bike</td>\n",
       "      <td>2022-03-13 15:33:47</td>\n",
       "      <td>2022-03-13 15:41:22</td>\n",
       "      <td>Baldwin at Montgomery</td>\n",
       "      <td>JC020</td>\n",
       "      <td>Grove St PATH</td>\n",
       "      <td>JC005</td>\n",
       "      <td>40.723659</td>\n",
       "      <td>-74.064194</td>\n",
       "      <td>40.719586</td>\n",
       "      <td>-74.043117</td>\n",
       "      <td>member</td>\n",
       "    </tr>\n",
       "    <tr>\n",
       "      <th>4</th>\n",
       "      <td>C84AE4A9D78A6347</td>\n",
       "      <td>classic_bike</td>\n",
       "      <td>2022-03-11 12:21:18</td>\n",
       "      <td>2022-03-11 12:33:24</td>\n",
       "      <td>Baldwin at Montgomery</td>\n",
       "      <td>JC020</td>\n",
       "      <td>Grove St PATH</td>\n",
       "      <td>JC005</td>\n",
       "      <td>40.723659</td>\n",
       "      <td>-74.064194</td>\n",
       "      <td>40.719586</td>\n",
       "      <td>-74.043117</td>\n",
       "      <td>member</td>\n",
       "    </tr>\n",
       "  </tbody>\n",
       "</table>\n",
       "</div>"
      ],
      "text/plain": [
       "            ride_id  rideable_type           started_at             ended_at  \\\n",
       "0  3255D3E3F33CDC45   classic_bike  2022-03-18 15:38:17  2022-03-18 15:45:34   \n",
       "1  17FA5604A37338F9  electric_bike  2022-03-04 16:44:48  2022-03-04 16:50:45   \n",
       "2  7DEC9ADDB8D6BBE1  electric_bike  2022-03-13 17:44:32  2022-03-13 17:54:44   \n",
       "3  9D69F74EEF231A2E   classic_bike  2022-03-13 15:33:47  2022-03-13 15:41:22   \n",
       "4  C84AE4A9D78A6347   classic_bike  2022-03-11 12:21:18  2022-03-11 12:33:24   \n",
       "\n",
       "                       start_station_name start_station_id  \\\n",
       "0  Mama Johnson Field - 4 St & Jackson St            HB404   \n",
       "1                   Baldwin at Montgomery            JC020   \n",
       "2                   Baldwin at Montgomery            JC020   \n",
       "3                   Baldwin at Montgomery            JC020   \n",
       "4                   Baldwin at Montgomery            JC020   \n",
       "\n",
       "                               end_station_name end_station_id  start_lat  \\\n",
       "0  South Waterfront Walkway - Sinatra Dr & 1 St          HB103  40.743140   \n",
       "1                                 Grove St PATH          JC005  40.723659   \n",
       "2                                 Grove St PATH          JC005  40.723659   \n",
       "3                                 Grove St PATH          JC005  40.723659   \n",
       "4                                 Grove St PATH          JC005  40.723659   \n",
       "\n",
       "   start_lng    end_lat    end_lng member_casual  \n",
       "0 -74.040041  40.736982 -74.027781        casual  \n",
       "1 -74.064194  40.719586 -74.043117        member  \n",
       "2 -74.064194  40.719586 -74.043117        member  \n",
       "3 -74.064194  40.719586 -74.043117        member  \n",
       "4 -74.064194  40.719586 -74.043117        member  "
      ]
     },
     "execution_count": 9,
     "metadata": {},
     "output_type": "execute_result"
    }
   ],
   "source": [
    "df.head()"
   ]
  },
  {
   "cell_type": "code",
   "execution_count": 10,
   "id": "c8b3eac0-7bac-4dc8-9d2e-ca81cbe9ddb1",
   "metadata": {},
   "outputs": [
    {
     "data": {
      "text/html": [
       "<div>\n",
       "<style scoped>\n",
       "    .dataframe tbody tr th:only-of-type {\n",
       "        vertical-align: middle;\n",
       "    }\n",
       "\n",
       "    .dataframe tbody tr th {\n",
       "        vertical-align: top;\n",
       "    }\n",
       "\n",
       "    .dataframe thead th {\n",
       "        text-align: right;\n",
       "    }\n",
       "</style>\n",
       "<table border=\"1\" class=\"dataframe\">\n",
       "  <thead>\n",
       "    <tr style=\"text-align: right;\">\n",
       "      <th></th>\n",
       "      <th>ride_id</th>\n",
       "      <th>rideable_type</th>\n",
       "      <th>started_at</th>\n",
       "      <th>ended_at</th>\n",
       "      <th>start_station_name</th>\n",
       "      <th>start_station_id</th>\n",
       "      <th>end_station_name</th>\n",
       "      <th>end_station_id</th>\n",
       "      <th>start_lat</th>\n",
       "      <th>start_lng</th>\n",
       "      <th>end_lat</th>\n",
       "      <th>end_lng</th>\n",
       "      <th>member_casual</th>\n",
       "    </tr>\n",
       "  </thead>\n",
       "  <tbody>\n",
       "    <tr>\n",
       "      <th>1388893</th>\n",
       "      <td>13C1C453508F048A</td>\n",
       "      <td>classic_bike</td>\n",
       "      <td>2022-04-24 12:52:09</td>\n",
       "      <td>2022-04-24 13:06:24</td>\n",
       "      <td>South Waterfront Walkway - Sinatra Dr &amp; 1 St</td>\n",
       "      <td>HB103</td>\n",
       "      <td>9 St HBLR - Jackson St &amp; 8 St</td>\n",
       "      <td>HB305</td>\n",
       "      <td>40.736982</td>\n",
       "      <td>-74.027781</td>\n",
       "      <td>40.747907</td>\n",
       "      <td>-74.038412</td>\n",
       "      <td>member</td>\n",
       "    </tr>\n",
       "    <tr>\n",
       "      <th>1388894</th>\n",
       "      <td>B7E454B8886D7826</td>\n",
       "      <td>electric_bike</td>\n",
       "      <td>2022-04-30 11:45:56</td>\n",
       "      <td>2022-04-30 11:54:30</td>\n",
       "      <td>South Waterfront Walkway - Sinatra Dr &amp; 1 St</td>\n",
       "      <td>HB103</td>\n",
       "      <td>12 St &amp; Sinatra Dr N</td>\n",
       "      <td>HB201</td>\n",
       "      <td>40.736982</td>\n",
       "      <td>-74.027781</td>\n",
       "      <td>40.750604</td>\n",
       "      <td>-74.024020</td>\n",
       "      <td>member</td>\n",
       "    </tr>\n",
       "    <tr>\n",
       "      <th>1388895</th>\n",
       "      <td>20D6A9E7C8291984</td>\n",
       "      <td>classic_bike</td>\n",
       "      <td>2022-04-28 14:28:34</td>\n",
       "      <td>2022-04-28 14:41:35</td>\n",
       "      <td>South Waterfront Walkway - Sinatra Dr &amp; 1 St</td>\n",
       "      <td>HB103</td>\n",
       "      <td>Bloomfield St &amp; 15 St</td>\n",
       "      <td>HB203</td>\n",
       "      <td>40.736982</td>\n",
       "      <td>-74.027781</td>\n",
       "      <td>40.754530</td>\n",
       "      <td>-74.026580</td>\n",
       "      <td>member</td>\n",
       "    </tr>\n",
       "    <tr>\n",
       "      <th>1388896</th>\n",
       "      <td>2AEB863A4F683CAE</td>\n",
       "      <td>electric_bike</td>\n",
       "      <td>2022-04-09 17:37:14</td>\n",
       "      <td>2022-04-09 17:46:45</td>\n",
       "      <td>South Waterfront Walkway - Sinatra Dr &amp; 1 St</td>\n",
       "      <td>HB103</td>\n",
       "      <td>Bloomfield St &amp; 15 St</td>\n",
       "      <td>HB203</td>\n",
       "      <td>40.736982</td>\n",
       "      <td>-74.027781</td>\n",
       "      <td>40.754530</td>\n",
       "      <td>-74.026580</td>\n",
       "      <td>casual</td>\n",
       "    </tr>\n",
       "    <tr>\n",
       "      <th>1388897</th>\n",
       "      <td>AB2C885E7051B2D4</td>\n",
       "      <td>classic_bike</td>\n",
       "      <td>2022-04-02 15:54:12</td>\n",
       "      <td>2022-04-02 16:02:53</td>\n",
       "      <td>South Waterfront Walkway - Sinatra Dr &amp; 1 St</td>\n",
       "      <td>HB103</td>\n",
       "      <td>Clinton St &amp; 7 St</td>\n",
       "      <td>HB303</td>\n",
       "      <td>40.736982</td>\n",
       "      <td>-74.027781</td>\n",
       "      <td>40.745420</td>\n",
       "      <td>-74.033320</td>\n",
       "      <td>casual</td>\n",
       "    </tr>\n",
       "  </tbody>\n",
       "</table>\n",
       "</div>"
      ],
      "text/plain": [
       "                  ride_id  rideable_type           started_at  \\\n",
       "1388893  13C1C453508F048A   classic_bike  2022-04-24 12:52:09   \n",
       "1388894  B7E454B8886D7826  electric_bike  2022-04-30 11:45:56   \n",
       "1388895  20D6A9E7C8291984   classic_bike  2022-04-28 14:28:34   \n",
       "1388896  2AEB863A4F683CAE  electric_bike  2022-04-09 17:37:14   \n",
       "1388897  AB2C885E7051B2D4   classic_bike  2022-04-02 15:54:12   \n",
       "\n",
       "                    ended_at                            start_station_name  \\\n",
       "1388893  2022-04-24 13:06:24  South Waterfront Walkway - Sinatra Dr & 1 St   \n",
       "1388894  2022-04-30 11:54:30  South Waterfront Walkway - Sinatra Dr & 1 St   \n",
       "1388895  2022-04-28 14:41:35  South Waterfront Walkway - Sinatra Dr & 1 St   \n",
       "1388896  2022-04-09 17:46:45  South Waterfront Walkway - Sinatra Dr & 1 St   \n",
       "1388897  2022-04-02 16:02:53  South Waterfront Walkway - Sinatra Dr & 1 St   \n",
       "\n",
       "        start_station_id               end_station_name end_station_id  \\\n",
       "1388893            HB103  9 St HBLR - Jackson St & 8 St          HB305   \n",
       "1388894            HB103           12 St & Sinatra Dr N          HB201   \n",
       "1388895            HB103          Bloomfield St & 15 St          HB203   \n",
       "1388896            HB103          Bloomfield St & 15 St          HB203   \n",
       "1388897            HB103              Clinton St & 7 St          HB303   \n",
       "\n",
       "         start_lat  start_lng    end_lat    end_lng member_casual  \n",
       "1388893  40.736982 -74.027781  40.747907 -74.038412        member  \n",
       "1388894  40.736982 -74.027781  40.750604 -74.024020        member  \n",
       "1388895  40.736982 -74.027781  40.754530 -74.026580        member  \n",
       "1388896  40.736982 -74.027781  40.754530 -74.026580        casual  \n",
       "1388897  40.736982 -74.027781  40.745420 -74.033320        casual  "
      ]
     },
     "execution_count": 10,
     "metadata": {},
     "output_type": "execute_result"
    }
   ],
   "source": [
    "df.tail()"
   ]
  },
  {
   "cell_type": "markdown",
   "id": "efe0a8c1-9e49-4ac2-b22f-9a0ada1c948f",
   "metadata": {},
   "source": [
    "### After creating a list, we need to read and join the datasets. This is done using a new strategy called a generator.\n",
    "### Generators are similar to list comprehensions, but they operate in a slightly different manner.\n",
    "### Here using a generator, an iteration of the list elements created in the previous step is done.\n",
    "### The function that’s applied iteratively is pd.read_csv(). The read files are then passed into the pd.concat() function.\n",
    "### The result returns the above dataframe. "
   ]
  },
  {
   "cell_type": "markdown",
   "id": "aee3c997-8ebf-49c4-a493-a797188f5b9a",
   "metadata": {},
   "source": [
    "## Get weather data using NOAA's API"
   ]
  },
  {
   "cell_type": "code",
   "execution_count": 13,
   "id": "81b6b725-6eb2-4b8c-b0ef-50f94ab52fc3",
   "metadata": {},
   "outputs": [],
   "source": [
    "# Define your NOAA token \n",
    "\n",
    "Token = 'VfShvRLHgvpjrJRJbvVWLZVLrDBBkDbK'"
   ]
  },
  {
   "cell_type": "code",
   "execution_count": 14,
   "id": "0ced6453-44ec-4d02-b669-d86709f4b49f",
   "metadata": {},
   "outputs": [],
   "source": [
    "# Get the API \n",
    "\n",
    "r = requests.get('https://www.ncdc.noaa.gov/cdo-web/api/v2/data?datasetid=GHCND&datatypeid=TAVG&limit=1000&stationid=GHCND:USW00014732&startdate=2022-01-01&enddate=2022-12-31', headers={'token':Token})"
   ]
  },
  {
   "cell_type": "code",
   "execution_count": 15,
   "id": "93e68b4b-432e-4c2e-98fe-28c89894046f",
   "metadata": {},
   "outputs": [],
   "source": [
    "# Load the api response as a json\n",
    "\n",
    "d = json.loads(r.text)"
   ]
  },
  {
   "cell_type": "code",
   "execution_count": 16,
   "id": "608b09d1-71e4-4166-8e61-7cbc1745a5b5",
   "metadata": {},
   "outputs": [],
   "source": [
    "# Secure all items in the response that correspond to TAVG\n",
    "\n",
    "avg_temps = [item for item in d['results'] if item['datatype']=='TAVG']"
   ]
  },
  {
   "cell_type": "code",
   "execution_count": 17,
   "id": "0cf3323b-33c9-4e3b-8ed0-811e1d85ef03",
   "metadata": {},
   "outputs": [],
   "source": [
    "# Get only the date field from all average temperature readings\n",
    "\n",
    "dates_temp = [item['date'] for item in avg_temps]"
   ]
  },
  {
   "cell_type": "code",
   "execution_count": 18,
   "id": "a67c7fdd-7df0-46a3-85b1-0d72f9dca486",
   "metadata": {},
   "outputs": [],
   "source": [
    "# Get the temperature from all average temperature readings\n",
    "\n",
    "temps = [item['value'] for item in avg_temps] "
   ]
  },
  {
   "cell_type": "code",
   "execution_count": 19,
   "id": "a23d6e5d-2b49-4147-ba9c-c771be3938da",
   "metadata": {},
   "outputs": [],
   "source": [
    "# Put the results in a dataframe\n",
    "\n",
    "df_temp = pd.DataFrame()"
   ]
  },
  {
   "cell_type": "code",
   "execution_count": 20,
   "id": "3a2fe8d2-19d8-45ed-805b-fcedb887e54b",
   "metadata": {},
   "outputs": [],
   "source": [
    "# Get only date and cast it to date time; convert temperature from tenths of Celsius to normal Celsius\n",
    "\n",
    "df_temp['date'] = [datetime.strptime(d, \"%Y-%m-%dT%H:%M:%S\") for d in dates_temp]\n",
    "df_temp['avgTemp'] = [float(v)/10.0 for v in temps]"
   ]
  },
  {
   "cell_type": "code",
   "execution_count": 21,
   "id": "7a102e67-d8a9-45ac-8aae-8dc6542d2285",
   "metadata": {},
   "outputs": [
    {
     "data": {
      "text/html": [
       "<div>\n",
       "<style scoped>\n",
       "    .dataframe tbody tr th:only-of-type {\n",
       "        vertical-align: middle;\n",
       "    }\n",
       "\n",
       "    .dataframe tbody tr th {\n",
       "        vertical-align: top;\n",
       "    }\n",
       "\n",
       "    .dataframe thead th {\n",
       "        text-align: right;\n",
       "    }\n",
       "</style>\n",
       "<table border=\"1\" class=\"dataframe\">\n",
       "  <thead>\n",
       "    <tr style=\"text-align: right;\">\n",
       "      <th></th>\n",
       "      <th>date</th>\n",
       "      <th>avgTemp</th>\n",
       "    </tr>\n",
       "  </thead>\n",
       "  <tbody>\n",
       "    <tr>\n",
       "      <th>0</th>\n",
       "      <td>2022-01-01</td>\n",
       "      <td>11.6</td>\n",
       "    </tr>\n",
       "    <tr>\n",
       "      <th>1</th>\n",
       "      <td>2022-01-02</td>\n",
       "      <td>11.4</td>\n",
       "    </tr>\n",
       "    <tr>\n",
       "      <th>2</th>\n",
       "      <td>2022-01-03</td>\n",
       "      <td>1.4</td>\n",
       "    </tr>\n",
       "    <tr>\n",
       "      <th>3</th>\n",
       "      <td>2022-01-04</td>\n",
       "      <td>-2.7</td>\n",
       "    </tr>\n",
       "    <tr>\n",
       "      <th>4</th>\n",
       "      <td>2022-01-05</td>\n",
       "      <td>3.2</td>\n",
       "    </tr>\n",
       "  </tbody>\n",
       "</table>\n",
       "</div>"
      ],
      "text/plain": [
       "        date  avgTemp\n",
       "0 2022-01-01     11.6\n",
       "1 2022-01-02     11.4\n",
       "2 2022-01-03      1.4\n",
       "3 2022-01-04     -2.7\n",
       "4 2022-01-05      3.2"
      ]
     },
     "execution_count": 21,
     "metadata": {},
     "output_type": "execute_result"
    }
   ],
   "source": [
    "df_temp.head()"
   ]
  },
  {
   "cell_type": "code",
   "execution_count": 22,
   "id": "24595a61-02a3-435d-9cf0-ed34092d6a2d",
   "metadata": {},
   "outputs": [
    {
     "data": {
      "text/html": [
       "<div>\n",
       "<style scoped>\n",
       "    .dataframe tbody tr th:only-of-type {\n",
       "        vertical-align: middle;\n",
       "    }\n",
       "\n",
       "    .dataframe tbody tr th {\n",
       "        vertical-align: top;\n",
       "    }\n",
       "\n",
       "    .dataframe thead th {\n",
       "        text-align: right;\n",
       "    }\n",
       "</style>\n",
       "<table border=\"1\" class=\"dataframe\">\n",
       "  <thead>\n",
       "    <tr style=\"text-align: right;\">\n",
       "      <th></th>\n",
       "      <th>date</th>\n",
       "      <th>avgTemp</th>\n",
       "    </tr>\n",
       "  </thead>\n",
       "  <tbody>\n",
       "    <tr>\n",
       "      <th>360</th>\n",
       "      <td>2022-12-27</td>\n",
       "      <td>-0.7</td>\n",
       "    </tr>\n",
       "    <tr>\n",
       "      <th>361</th>\n",
       "      <td>2022-12-28</td>\n",
       "      <td>3.4</td>\n",
       "    </tr>\n",
       "    <tr>\n",
       "      <th>362</th>\n",
       "      <td>2022-12-29</td>\n",
       "      <td>6.4</td>\n",
       "    </tr>\n",
       "    <tr>\n",
       "      <th>363</th>\n",
       "      <td>2022-12-30</td>\n",
       "      <td>9.3</td>\n",
       "    </tr>\n",
       "    <tr>\n",
       "      <th>364</th>\n",
       "      <td>2022-12-31</td>\n",
       "      <td>8.2</td>\n",
       "    </tr>\n",
       "  </tbody>\n",
       "</table>\n",
       "</div>"
      ],
      "text/plain": [
       "          date  avgTemp\n",
       "360 2022-12-27     -0.7\n",
       "361 2022-12-28      3.4\n",
       "362 2022-12-29      6.4\n",
       "363 2022-12-30      9.3\n",
       "364 2022-12-31      8.2"
      ]
     },
     "execution_count": 22,
     "metadata": {},
     "output_type": "execute_result"
    }
   ],
   "source": [
    "df_temp.tail()"
   ]
  },
  {
   "cell_type": "code",
   "execution_count": 23,
   "id": "48bff1f6-9028-4a52-9ce4-4fccf129a863",
   "metadata": {},
   "outputs": [
    {
     "data": {
      "text/plain": [
       "ride_id                object\n",
       "rideable_type          object\n",
       "started_at             object\n",
       "ended_at               object\n",
       "start_station_name     object\n",
       "start_station_id       object\n",
       "end_station_name       object\n",
       "end_station_id         object\n",
       "start_lat             float64\n",
       "start_lng             float64\n",
       "end_lat               float64\n",
       "end_lng               float64\n",
       "member_casual          object\n",
       "dtype: object"
      ]
     },
     "execution_count": 23,
     "metadata": {},
     "output_type": "execute_result"
    }
   ],
   "source": [
    "df.dtypes"
   ]
  },
  {
   "cell_type": "code",
   "execution_count": 24,
   "id": "0b153766-b60a-4092-ad9b-7f4cd610074c",
   "metadata": {},
   "outputs": [],
   "source": [
    "df['started_at'] = pd.to_datetime(df['started_at'], dayfirst = False)"
   ]
  },
  {
   "cell_type": "code",
   "execution_count": 25,
   "id": "24f038fc-ec9f-426f-b1c0-1ba1f291500f",
   "metadata": {},
   "outputs": [],
   "source": [
    "df['date'] = pd.to_datetime(df['started_at'], format='%Y-%m-%d').dt.date"
   ]
  },
  {
   "cell_type": "code",
   "execution_count": 26,
   "id": "b6615301-d7c7-4431-9454-b0bbed1be765",
   "metadata": {},
   "outputs": [],
   "source": [
    "df['date'] = pd.to_datetime(df['date'])"
   ]
  },
  {
   "cell_type": "code",
   "execution_count": 27,
   "id": "be31d047-9dc6-4932-9888-fdf94edbd908",
   "metadata": {},
   "outputs": [
    {
     "data": {
      "text/html": [
       "<div>\n",
       "<style scoped>\n",
       "    .dataframe tbody tr th:only-of-type {\n",
       "        vertical-align: middle;\n",
       "    }\n",
       "\n",
       "    .dataframe tbody tr th {\n",
       "        vertical-align: top;\n",
       "    }\n",
       "\n",
       "    .dataframe thead th {\n",
       "        text-align: right;\n",
       "    }\n",
       "</style>\n",
       "<table border=\"1\" class=\"dataframe\">\n",
       "  <thead>\n",
       "    <tr style=\"text-align: right;\">\n",
       "      <th></th>\n",
       "      <th>date</th>\n",
       "      <th>avgTemp</th>\n",
       "    </tr>\n",
       "  </thead>\n",
       "  <tbody>\n",
       "    <tr>\n",
       "      <th>0</th>\n",
       "      <td>2022-01-01</td>\n",
       "      <td>11.6</td>\n",
       "    </tr>\n",
       "    <tr>\n",
       "      <th>1</th>\n",
       "      <td>2022-01-02</td>\n",
       "      <td>11.4</td>\n",
       "    </tr>\n",
       "    <tr>\n",
       "      <th>2</th>\n",
       "      <td>2022-01-03</td>\n",
       "      <td>1.4</td>\n",
       "    </tr>\n",
       "    <tr>\n",
       "      <th>3</th>\n",
       "      <td>2022-01-04</td>\n",
       "      <td>-2.7</td>\n",
       "    </tr>\n",
       "    <tr>\n",
       "      <th>4</th>\n",
       "      <td>2022-01-05</td>\n",
       "      <td>3.2</td>\n",
       "    </tr>\n",
       "  </tbody>\n",
       "</table>\n",
       "</div>"
      ],
      "text/plain": [
       "        date  avgTemp\n",
       "0 2022-01-01     11.6\n",
       "1 2022-01-02     11.4\n",
       "2 2022-01-03      1.4\n",
       "3 2022-01-04     -2.7\n",
       "4 2022-01-05      3.2"
      ]
     },
     "execution_count": 27,
     "metadata": {},
     "output_type": "execute_result"
    }
   ],
   "source": [
    "df_temp.head()"
   ]
  },
  {
   "cell_type": "code",
   "execution_count": 28,
   "id": "d500f606-272e-4be1-a019-ff1f99ce52df",
   "metadata": {},
   "outputs": [
    {
     "name": "stdout",
     "output_type": "stream",
     "text": [
      "CPU times: user 755 ms, sys: 302 ms, total: 1.06 s\n",
      "Wall time: 1.57 s\n"
     ]
    }
   ],
   "source": [
    "%%time\n",
    "df_merged = df.merge(df_temp, how = 'left', on = 'date', indicator = True)"
   ]
  },
  {
   "cell_type": "code",
   "execution_count": 29,
   "id": "7e2272b8-4e7b-48f4-aece-34bf5a3981af",
   "metadata": {},
   "outputs": [
    {
     "data": {
      "text/html": [
       "<div>\n",
       "<style scoped>\n",
       "    .dataframe tbody tr th:only-of-type {\n",
       "        vertical-align: middle;\n",
       "    }\n",
       "\n",
       "    .dataframe tbody tr th {\n",
       "        vertical-align: top;\n",
       "    }\n",
       "\n",
       "    .dataframe thead th {\n",
       "        text-align: right;\n",
       "    }\n",
       "</style>\n",
       "<table border=\"1\" class=\"dataframe\">\n",
       "  <thead>\n",
       "    <tr style=\"text-align: right;\">\n",
       "      <th></th>\n",
       "      <th>ride_id</th>\n",
       "      <th>rideable_type</th>\n",
       "      <th>started_at</th>\n",
       "      <th>ended_at</th>\n",
       "      <th>start_station_name</th>\n",
       "      <th>start_station_id</th>\n",
       "      <th>end_station_name</th>\n",
       "      <th>end_station_id</th>\n",
       "      <th>start_lat</th>\n",
       "      <th>start_lng</th>\n",
       "      <th>end_lat</th>\n",
       "      <th>end_lng</th>\n",
       "      <th>member_casual</th>\n",
       "      <th>date</th>\n",
       "      <th>avgTemp</th>\n",
       "      <th>_merge</th>\n",
       "    </tr>\n",
       "  </thead>\n",
       "  <tbody>\n",
       "    <tr>\n",
       "      <th>0</th>\n",
       "      <td>3255D3E3F33CDC45</td>\n",
       "      <td>classic_bike</td>\n",
       "      <td>2022-03-18 15:38:17</td>\n",
       "      <td>2022-03-18 15:45:34</td>\n",
       "      <td>Mama Johnson Field - 4 St &amp; Jackson St</td>\n",
       "      <td>HB404</td>\n",
       "      <td>South Waterfront Walkway - Sinatra Dr &amp; 1 St</td>\n",
       "      <td>HB103</td>\n",
       "      <td>40.743140</td>\n",
       "      <td>-74.040041</td>\n",
       "      <td>40.736982</td>\n",
       "      <td>-74.027781</td>\n",
       "      <td>casual</td>\n",
       "      <td>2022-03-18</td>\n",
       "      <td>13.9</td>\n",
       "      <td>both</td>\n",
       "    </tr>\n",
       "    <tr>\n",
       "      <th>1</th>\n",
       "      <td>17FA5604A37338F9</td>\n",
       "      <td>electric_bike</td>\n",
       "      <td>2022-03-04 16:44:48</td>\n",
       "      <td>2022-03-04 16:50:45</td>\n",
       "      <td>Baldwin at Montgomery</td>\n",
       "      <td>JC020</td>\n",
       "      <td>Grove St PATH</td>\n",
       "      <td>JC005</td>\n",
       "      <td>40.723659</td>\n",
       "      <td>-74.064194</td>\n",
       "      <td>40.719586</td>\n",
       "      <td>-74.043117</td>\n",
       "      <td>member</td>\n",
       "      <td>2022-03-04</td>\n",
       "      <td>-1.9</td>\n",
       "      <td>both</td>\n",
       "    </tr>\n",
       "    <tr>\n",
       "      <th>2</th>\n",
       "      <td>7DEC9ADDB8D6BBE1</td>\n",
       "      <td>electric_bike</td>\n",
       "      <td>2022-03-13 17:44:32</td>\n",
       "      <td>2022-03-13 17:54:44</td>\n",
       "      <td>Baldwin at Montgomery</td>\n",
       "      <td>JC020</td>\n",
       "      <td>Grove St PATH</td>\n",
       "      <td>JC005</td>\n",
       "      <td>40.723659</td>\n",
       "      <td>-74.064194</td>\n",
       "      <td>40.719586</td>\n",
       "      <td>-74.043117</td>\n",
       "      <td>member</td>\n",
       "      <td>2022-03-13</td>\n",
       "      <td>-2.3</td>\n",
       "      <td>both</td>\n",
       "    </tr>\n",
       "    <tr>\n",
       "      <th>3</th>\n",
       "      <td>9D69F74EEF231A2E</td>\n",
       "      <td>classic_bike</td>\n",
       "      <td>2022-03-13 15:33:47</td>\n",
       "      <td>2022-03-13 15:41:22</td>\n",
       "      <td>Baldwin at Montgomery</td>\n",
       "      <td>JC020</td>\n",
       "      <td>Grove St PATH</td>\n",
       "      <td>JC005</td>\n",
       "      <td>40.723659</td>\n",
       "      <td>-74.064194</td>\n",
       "      <td>40.719586</td>\n",
       "      <td>-74.043117</td>\n",
       "      <td>member</td>\n",
       "      <td>2022-03-13</td>\n",
       "      <td>-2.3</td>\n",
       "      <td>both</td>\n",
       "    </tr>\n",
       "    <tr>\n",
       "      <th>4</th>\n",
       "      <td>C84AE4A9D78A6347</td>\n",
       "      <td>classic_bike</td>\n",
       "      <td>2022-03-11 12:21:18</td>\n",
       "      <td>2022-03-11 12:33:24</td>\n",
       "      <td>Baldwin at Montgomery</td>\n",
       "      <td>JC020</td>\n",
       "      <td>Grove St PATH</td>\n",
       "      <td>JC005</td>\n",
       "      <td>40.723659</td>\n",
       "      <td>-74.064194</td>\n",
       "      <td>40.719586</td>\n",
       "      <td>-74.043117</td>\n",
       "      <td>member</td>\n",
       "      <td>2022-03-11</td>\n",
       "      <td>7.2</td>\n",
       "      <td>both</td>\n",
       "    </tr>\n",
       "  </tbody>\n",
       "</table>\n",
       "</div>"
      ],
      "text/plain": [
       "            ride_id  rideable_type          started_at             ended_at  \\\n",
       "0  3255D3E3F33CDC45   classic_bike 2022-03-18 15:38:17  2022-03-18 15:45:34   \n",
       "1  17FA5604A37338F9  electric_bike 2022-03-04 16:44:48  2022-03-04 16:50:45   \n",
       "2  7DEC9ADDB8D6BBE1  electric_bike 2022-03-13 17:44:32  2022-03-13 17:54:44   \n",
       "3  9D69F74EEF231A2E   classic_bike 2022-03-13 15:33:47  2022-03-13 15:41:22   \n",
       "4  C84AE4A9D78A6347   classic_bike 2022-03-11 12:21:18  2022-03-11 12:33:24   \n",
       "\n",
       "                       start_station_name start_station_id  \\\n",
       "0  Mama Johnson Field - 4 St & Jackson St            HB404   \n",
       "1                   Baldwin at Montgomery            JC020   \n",
       "2                   Baldwin at Montgomery            JC020   \n",
       "3                   Baldwin at Montgomery            JC020   \n",
       "4                   Baldwin at Montgomery            JC020   \n",
       "\n",
       "                               end_station_name end_station_id  start_lat  \\\n",
       "0  South Waterfront Walkway - Sinatra Dr & 1 St          HB103  40.743140   \n",
       "1                                 Grove St PATH          JC005  40.723659   \n",
       "2                                 Grove St PATH          JC005  40.723659   \n",
       "3                                 Grove St PATH          JC005  40.723659   \n",
       "4                                 Grove St PATH          JC005  40.723659   \n",
       "\n",
       "   start_lng    end_lat    end_lng member_casual       date  avgTemp _merge  \n",
       "0 -74.040041  40.736982 -74.027781        casual 2022-03-18     13.9   both  \n",
       "1 -74.064194  40.719586 -74.043117        member 2022-03-04     -1.9   both  \n",
       "2 -74.064194  40.719586 -74.043117        member 2022-03-13     -2.3   both  \n",
       "3 -74.064194  40.719586 -74.043117        member 2022-03-13     -2.3   both  \n",
       "4 -74.064194  40.719586 -74.043117        member 2022-03-11      7.2   both  "
      ]
     },
     "execution_count": 29,
     "metadata": {},
     "output_type": "execute_result"
    }
   ],
   "source": [
    "df_merged.head()"
   ]
  },
  {
   "cell_type": "code",
   "execution_count": 30,
   "id": "a09282fb-ad2b-41df-96ed-98f332876974",
   "metadata": {},
   "outputs": [
    {
     "data": {
      "text/plain": [
       "_merge\n",
       "both          846900\n",
       "left_only     541998\n",
       "right_only         0\n",
       "Name: count, dtype: int64"
      ]
     },
     "execution_count": 30,
     "metadata": {},
     "output_type": "execute_result"
    }
   ],
   "source": [
    "df_merged['_merge'].value_counts(dropna = False)"
   ]
  },
  {
   "cell_type": "code",
   "execution_count": 31,
   "id": "9eafb845-cdf0-45c7-b36c-e4be63788349",
   "metadata": {},
   "outputs": [],
   "source": [
    "df_merged.to_csv('NewYork_data.csv')"
   ]
  },
  {
   "cell_type": "code",
   "execution_count": 32,
   "id": "f2162db0-e43a-4822-a74d-58a40895d9e1",
   "metadata": {},
   "outputs": [
    {
     "data": {
      "text/plain": [
       "(1388898, 14)"
      ]
     },
     "execution_count": 32,
     "metadata": {},
     "output_type": "execute_result"
    }
   ],
   "source": [
    "df.shape"
   ]
  },
  {
   "cell_type": "markdown",
   "id": "4001b090-f75b-4600-9c8e-63cd1a11923c",
   "metadata": {},
   "source": [
    "## END"
   ]
  }
 ],
 "metadata": {
  "kernelspec": {
   "display_name": "Python [conda env:DivvyBikes_2022]",
   "language": "python",
   "name": "conda-env-DivvyBikes_2022-py"
  },
  "language_info": {
   "codemirror_mode": {
    "name": "ipython",
    "version": 3
   },
   "file_extension": ".py",
   "mimetype": "text/x-python",
   "name": "python",
   "nbconvert_exporter": "python",
   "pygments_lexer": "ipython3",
   "version": "3.13.0"
  }
 },
 "nbformat": 4,
 "nbformat_minor": 5
}
