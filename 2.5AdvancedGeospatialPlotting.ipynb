{
 "cells": [
  {
   "cell_type": "markdown",
   "id": "f4d40b38-1d91-465b-9a38-e77429c9751f",
   "metadata": {},
   "source": [
    "# E5 Advanced geospatial plotting"
   ]
  },
  {
   "cell_type": "code",
   "execution_count": 2,
   "id": "42ee7f4a-1548-4cce-ac26-95dd5effbc8e",
   "metadata": {},
   "outputs": [],
   "source": [
    "import pandas as pd\n",
    "import os\n",
    "from keplergl import KeplerGl\n",
    "from pyproj import CRS\n",
    "import numpy as np\n",
    "from matplotlib import pyplot as plt"
   ]
  },
  {
   "cell_type": "code",
   "execution_count": 4,
   "id": "c40c4466-e3be-4e9c-a23a-a32e14170d40",
   "metadata": {},
   "outputs": [
    {
     "data": {
      "text/plain": [
       "'0.3.2'"
      ]
     },
     "execution_count": 4,
     "metadata": {},
     "output_type": "execute_result"
    }
   ],
   "source": [
    "import keplergl\n",
    "keplergl.__version__\n"
   ]
  },
  {
   "cell_type": "code",
   "execution_count": 6,
   "id": "51bc6ac8-e406-4aca-a3d1-c591164030de",
   "metadata": {},
   "outputs": [],
   "source": [
    "df = pd.read_csv('NewYork_data.csv', index_col = 0)"
   ]
  },
  {
   "cell_type": "code",
   "execution_count": 8,
   "id": "0e2b6a07-bab0-4e66-8974-f834300fe7fd",
   "metadata": {},
   "outputs": [
    {
     "data": {
      "text/html": [
       "<div>\n",
       "<style scoped>\n",
       "    .dataframe tbody tr th:only-of-type {\n",
       "        vertical-align: middle;\n",
       "    }\n",
       "\n",
       "    .dataframe tbody tr th {\n",
       "        vertical-align: top;\n",
       "    }\n",
       "\n",
       "    .dataframe thead th {\n",
       "        text-align: right;\n",
       "    }\n",
       "</style>\n",
       "<table border=\"1\" class=\"dataframe\">\n",
       "  <thead>\n",
       "    <tr style=\"text-align: right;\">\n",
       "      <th></th>\n",
       "      <th>ride_id</th>\n",
       "      <th>rideable_type</th>\n",
       "      <th>started_at</th>\n",
       "      <th>ended_at</th>\n",
       "      <th>start_station_name</th>\n",
       "      <th>start_station_id</th>\n",
       "      <th>end_station_name</th>\n",
       "      <th>end_station_id</th>\n",
       "      <th>start_lat</th>\n",
       "      <th>start_lng</th>\n",
       "      <th>end_lat</th>\n",
       "      <th>end_lng</th>\n",
       "      <th>member_casual</th>\n",
       "      <th>date</th>\n",
       "      <th>avgTemp</th>\n",
       "      <th>_merge</th>\n",
       "      <th>value</th>\n",
       "      <th>bike_rides_daily_x</th>\n",
       "      <th>merge_flag</th>\n",
       "      <th>bike_rides_daily_y</th>\n",
       "    </tr>\n",
       "  </thead>\n",
       "  <tbody>\n",
       "    <tr>\n",
       "      <th>0</th>\n",
       "      <td>BC3FFFD55572712C</td>\n",
       "      <td>docked_bike</td>\n",
       "      <td>2021-06-01 20:38:35</td>\n",
       "      <td>2021-06-01 20:42:31</td>\n",
       "      <td>11 St &amp; Washington St</td>\n",
       "      <td>HB502</td>\n",
       "      <td>Columbus Park - Clinton St &amp; 9 St</td>\n",
       "      <td>HB501</td>\n",
       "      <td>40.749984</td>\n",
       "      <td>-74.027150</td>\n",
       "      <td>40.748161</td>\n",
       "      <td>-74.032453</td>\n",
       "      <td>member</td>\n",
       "      <td>2021-06-01</td>\n",
       "      <td>NaN</td>\n",
       "      <td>left_only</td>\n",
       "      <td>1</td>\n",
       "      <td>2024</td>\n",
       "      <td>both</td>\n",
       "      <td>2024</td>\n",
       "    </tr>\n",
       "    <tr>\n",
       "      <th>1</th>\n",
       "      <td>76244D3FB84245AA</td>\n",
       "      <td>docked_bike</td>\n",
       "      <td>2021-06-01 16:42:40</td>\n",
       "      <td>2021-06-01 16:46:28</td>\n",
       "      <td>8 St &amp; Washington St</td>\n",
       "      <td>HB603</td>\n",
       "      <td>Columbus Park - Clinton St &amp; 9 St</td>\n",
       "      <td>HB501</td>\n",
       "      <td>40.745983</td>\n",
       "      <td>-74.028199</td>\n",
       "      <td>40.748161</td>\n",
       "      <td>-74.032453</td>\n",
       "      <td>member</td>\n",
       "      <td>2021-06-01</td>\n",
       "      <td>NaN</td>\n",
       "      <td>left_only</td>\n",
       "      <td>1</td>\n",
       "      <td>2024</td>\n",
       "      <td>both</td>\n",
       "      <td>2024</td>\n",
       "    </tr>\n",
       "    <tr>\n",
       "      <th>2</th>\n",
       "      <td>A284AABB2C747554</td>\n",
       "      <td>electric_bike</td>\n",
       "      <td>2021-06-01 17:06:54</td>\n",
       "      <td>2021-06-01 17:19:07</td>\n",
       "      <td>11 St &amp; Washington St</td>\n",
       "      <td>HB502</td>\n",
       "      <td>Hoboken Terminal - River St &amp; Hudson Pl</td>\n",
       "      <td>HB102</td>\n",
       "      <td>40.749984</td>\n",
       "      <td>-74.027150</td>\n",
       "      <td>40.736068</td>\n",
       "      <td>-74.029127</td>\n",
       "      <td>casual</td>\n",
       "      <td>2021-06-01</td>\n",
       "      <td>NaN</td>\n",
       "      <td>left_only</td>\n",
       "      <td>1</td>\n",
       "      <td>2024</td>\n",
       "      <td>both</td>\n",
       "      <td>2024</td>\n",
       "    </tr>\n",
       "    <tr>\n",
       "      <th>3</th>\n",
       "      <td>88CCB07E62CA4AFA</td>\n",
       "      <td>docked_bike</td>\n",
       "      <td>2021-06-01 17:58:56</td>\n",
       "      <td>2021-06-01 18:06:52</td>\n",
       "      <td>11 St &amp; Washington St</td>\n",
       "      <td>HB502</td>\n",
       "      <td>Hoboken Terminal - River St &amp; Hudson Pl</td>\n",
       "      <td>HB102</td>\n",
       "      <td>40.749984</td>\n",
       "      <td>-74.027150</td>\n",
       "      <td>40.736068</td>\n",
       "      <td>-74.029127</td>\n",
       "      <td>member</td>\n",
       "      <td>2021-06-01</td>\n",
       "      <td>NaN</td>\n",
       "      <td>left_only</td>\n",
       "      <td>1</td>\n",
       "      <td>2024</td>\n",
       "      <td>both</td>\n",
       "      <td>2024</td>\n",
       "    </tr>\n",
       "    <tr>\n",
       "      <th>4</th>\n",
       "      <td>42B65D476BD5FE41</td>\n",
       "      <td>electric_bike</td>\n",
       "      <td>2021-06-01 11:22:54</td>\n",
       "      <td>2021-06-01 11:28:52</td>\n",
       "      <td>11 St &amp; Washington St</td>\n",
       "      <td>HB502</td>\n",
       "      <td>Hoboken Terminal - River St &amp; Hudson Pl</td>\n",
       "      <td>HB102</td>\n",
       "      <td>40.749984</td>\n",
       "      <td>-74.027150</td>\n",
       "      <td>40.736068</td>\n",
       "      <td>-74.029127</td>\n",
       "      <td>member</td>\n",
       "      <td>2021-06-01</td>\n",
       "      <td>NaN</td>\n",
       "      <td>left_only</td>\n",
       "      <td>1</td>\n",
       "      <td>2024</td>\n",
       "      <td>both</td>\n",
       "      <td>2024</td>\n",
       "    </tr>\n",
       "  </tbody>\n",
       "</table>\n",
       "</div>"
      ],
      "text/plain": [
       "            ride_id  rideable_type           started_at             ended_at  \\\n",
       "0  BC3FFFD55572712C    docked_bike  2021-06-01 20:38:35  2021-06-01 20:42:31   \n",
       "1  76244D3FB84245AA    docked_bike  2021-06-01 16:42:40  2021-06-01 16:46:28   \n",
       "2  A284AABB2C747554  electric_bike  2021-06-01 17:06:54  2021-06-01 17:19:07   \n",
       "3  88CCB07E62CA4AFA    docked_bike  2021-06-01 17:58:56  2021-06-01 18:06:52   \n",
       "4  42B65D476BD5FE41  electric_bike  2021-06-01 11:22:54  2021-06-01 11:28:52   \n",
       "\n",
       "      start_station_name start_station_id  \\\n",
       "0  11 St & Washington St            HB502   \n",
       "1   8 St & Washington St            HB603   \n",
       "2  11 St & Washington St            HB502   \n",
       "3  11 St & Washington St            HB502   \n",
       "4  11 St & Washington St            HB502   \n",
       "\n",
       "                          end_station_name end_station_id  start_lat  \\\n",
       "0        Columbus Park - Clinton St & 9 St          HB501  40.749984   \n",
       "1        Columbus Park - Clinton St & 9 St          HB501  40.745983   \n",
       "2  Hoboken Terminal - River St & Hudson Pl          HB102  40.749984   \n",
       "3  Hoboken Terminal - River St & Hudson Pl          HB102  40.749984   \n",
       "4  Hoboken Terminal - River St & Hudson Pl          HB102  40.749984   \n",
       "\n",
       "   start_lng    end_lat    end_lng member_casual        date  avgTemp  \\\n",
       "0 -74.027150  40.748161 -74.032453        member  2021-06-01      NaN   \n",
       "1 -74.028199  40.748161 -74.032453        member  2021-06-01      NaN   \n",
       "2 -74.027150  40.736068 -74.029127        casual  2021-06-01      NaN   \n",
       "3 -74.027150  40.736068 -74.029127        member  2021-06-01      NaN   \n",
       "4 -74.027150  40.736068 -74.029127        member  2021-06-01      NaN   \n",
       "\n",
       "      _merge  value  bike_rides_daily_x merge_flag  bike_rides_daily_y  \n",
       "0  left_only      1                2024       both                2024  \n",
       "1  left_only      1                2024       both                2024  \n",
       "2  left_only      1                2024       both                2024  \n",
       "3  left_only      1                2024       both                2024  \n",
       "4  left_only      1                2024       both                2024  "
      ]
     },
     "execution_count": 8,
     "metadata": {},
     "output_type": "execute_result"
    }
   ],
   "source": [
    "df.head()"
   ]
  },
  {
   "cell_type": "code",
   "execution_count": 10,
   "id": "cfce92ab-18a6-4a3c-91a3-613816ebdee3",
   "metadata": {},
   "outputs": [
    {
     "data": {
      "text/plain": [
       "(1388898, 20)"
      ]
     },
     "execution_count": 10,
     "metadata": {},
     "output_type": "execute_result"
    }
   ],
   "source": [
    "df.shape"
   ]
  },
  {
   "cell_type": "markdown",
   "id": "5ca65643-552b-42d9-94a2-95fc317f9627",
   "metadata": {},
   "source": [
    "## Data Preprocessing"
   ]
  },
  {
   "cell_type": "code",
   "execution_count": 13,
   "id": "4ce3e42b-297c-483c-9cde-01ed09c2b362",
   "metadata": {},
   "outputs": [],
   "source": [
    "# Create a value column and group by start and end station \n",
    "\n",
    "df['value'] = 1\n",
    "df_group = df.groupby(['start_station_name', 'end_station_name'])['value'].count().reset_index()"
   ]
  },
  {
   "cell_type": "code",
   "execution_count": 15,
   "id": "5dbb391c-ecd7-44a1-960d-68135d18e5d5",
   "metadata": {},
   "outputs": [
    {
     "data": {
      "text/html": [
       "<div>\n",
       "<style scoped>\n",
       "    .dataframe tbody tr th:only-of-type {\n",
       "        vertical-align: middle;\n",
       "    }\n",
       "\n",
       "    .dataframe tbody tr th {\n",
       "        vertical-align: top;\n",
       "    }\n",
       "\n",
       "    .dataframe thead th {\n",
       "        text-align: right;\n",
       "    }\n",
       "</style>\n",
       "<table border=\"1\" class=\"dataframe\">\n",
       "  <thead>\n",
       "    <tr style=\"text-align: right;\">\n",
       "      <th></th>\n",
       "      <th>start_station_name</th>\n",
       "      <th>end_station_name</th>\n",
       "      <th>value</th>\n",
       "    </tr>\n",
       "  </thead>\n",
       "  <tbody>\n",
       "    <tr>\n",
       "      <th>0</th>\n",
       "      <td>11 St &amp; Washington St</td>\n",
       "      <td>10 Ave &amp; W 14 St</td>\n",
       "      <td>1</td>\n",
       "    </tr>\n",
       "    <tr>\n",
       "      <th>1</th>\n",
       "      <td>11 St &amp; Washington St</td>\n",
       "      <td>11 St &amp; Washington St</td>\n",
       "      <td>2571</td>\n",
       "    </tr>\n",
       "    <tr>\n",
       "      <th>2</th>\n",
       "      <td>11 St &amp; Washington St</td>\n",
       "      <td>12 Ave &amp; W 40 St</td>\n",
       "      <td>2</td>\n",
       "    </tr>\n",
       "    <tr>\n",
       "      <th>3</th>\n",
       "      <td>11 St &amp; Washington St</td>\n",
       "      <td>12 St &amp; Sinatra Dr N</td>\n",
       "      <td>348</td>\n",
       "    </tr>\n",
       "    <tr>\n",
       "      <th>4</th>\n",
       "      <td>11 St &amp; Washington St</td>\n",
       "      <td>14 St Ferry - 14 St &amp; Shipyard Ln</td>\n",
       "      <td>659</td>\n",
       "    </tr>\n",
       "    <tr>\n",
       "      <th>...</th>\n",
       "      <td>...</td>\n",
       "      <td>...</td>\n",
       "      <td>...</td>\n",
       "    </tr>\n",
       "    <tr>\n",
       "      <th>7530</th>\n",
       "      <td>York St &amp; Marin Blvd</td>\n",
       "      <td>Van Vorst Park</td>\n",
       "      <td>14</td>\n",
       "    </tr>\n",
       "    <tr>\n",
       "      <th>7531</th>\n",
       "      <td>York St &amp; Marin Blvd</td>\n",
       "      <td>Warren St</td>\n",
       "      <td>33</td>\n",
       "    </tr>\n",
       "    <tr>\n",
       "      <th>7532</th>\n",
       "      <td>York St &amp; Marin Blvd</td>\n",
       "      <td>Washington St</td>\n",
       "      <td>10</td>\n",
       "    </tr>\n",
       "    <tr>\n",
       "      <th>7533</th>\n",
       "      <td>York St &amp; Marin Blvd</td>\n",
       "      <td>Willow Ave &amp; 12 St</td>\n",
       "      <td>1</td>\n",
       "    </tr>\n",
       "    <tr>\n",
       "      <th>7534</th>\n",
       "      <td>York St &amp; Marin Blvd</td>\n",
       "      <td>York St &amp; Marin Blvd</td>\n",
       "      <td>41</td>\n",
       "    </tr>\n",
       "  </tbody>\n",
       "</table>\n",
       "<p>7535 rows × 3 columns</p>\n",
       "</div>"
      ],
      "text/plain": [
       "         start_station_name                   end_station_name  value\n",
       "0     11 St & Washington St                   10 Ave & W 14 St      1\n",
       "1     11 St & Washington St              11 St & Washington St   2571\n",
       "2     11 St & Washington St                   12 Ave & W 40 St      2\n",
       "3     11 St & Washington St               12 St & Sinatra Dr N    348\n",
       "4     11 St & Washington St  14 St Ferry - 14 St & Shipyard Ln    659\n",
       "...                     ...                                ...    ...\n",
       "7530   York St & Marin Blvd                     Van Vorst Park     14\n",
       "7531   York St & Marin Blvd                          Warren St     33\n",
       "7532   York St & Marin Blvd                      Washington St     10\n",
       "7533   York St & Marin Blvd                 Willow Ave & 12 St      1\n",
       "7534   York St & Marin Blvd               York St & Marin Blvd     41\n",
       "\n",
       "[7535 rows x 3 columns]"
      ]
     },
     "execution_count": 15,
     "metadata": {},
     "output_type": "execute_result"
    }
   ],
   "source": [
    "df_group"
   ]
  },
  {
   "cell_type": "code",
   "execution_count": 17,
   "id": "f09b48e4-a870-4d16-adbc-c348840e861b",
   "metadata": {},
   "outputs": [
    {
     "name": "stdout",
     "output_type": "stream",
     "text": [
      "1382728\n",
      "(1388898, 20)\n"
     ]
    }
   ],
   "source": [
    "print(df_group['value'].sum())\n",
    "print(df.shape)"
   ]
  },
  {
   "cell_type": "code",
   "execution_count": 19,
   "id": "893cc09c-b91e-4e32-818c-3cbe5ef5dc71",
   "metadata": {},
   "outputs": [
    {
     "data": {
      "text/plain": [
       "count     7535.000000\n",
       "mean       183.507366\n",
       "std        465.212336\n",
       "min          1.000000\n",
       "25%          8.000000\n",
       "50%         37.000000\n",
       "75%        159.000000\n",
       "max      10435.000000\n",
       "Name: value, dtype: float64"
      ]
     },
     "execution_count": 19,
     "metadata": {},
     "output_type": "execute_result"
    }
   ],
   "source": [
    "df_group['value'].describe()"
   ]
  },
  {
   "cell_type": "markdown",
   "id": "b89e902e-3105-404f-bee4-2d5aa6cdbf39",
   "metadata": {},
   "source": [
    "### Some exploratory analysis into the trips"
   ]
  },
  {
   "cell_type": "code",
   "execution_count": 22,
   "id": "f034efa4-e026-4bdf-90ca-f1a053f775ca",
   "metadata": {},
   "outputs": [
    {
     "ename": "NameError",
     "evalue": "name 'plot' is not defined",
     "output_type": "error",
     "traceback": [
      "\u001b[0;31m---------------------------------------------------------------------------\u001b[0m",
      "\u001b[0;31mNameError\u001b[0m                                 Traceback (most recent call last)",
      "Cell \u001b[0;32mIn[22], line 2\u001b[0m\n\u001b[1;32m      1\u001b[0m df_group[\u001b[38;5;124m'\u001b[39m\u001b[38;5;124mvalue\u001b[39m\u001b[38;5;124m'\u001b[39m]\u001b[38;5;241m.\u001b[39mhist(bins \u001b[38;5;241m=\u001b[39m \u001b[38;5;241m100\u001b[39m)\n\u001b[0;32m----> 2\u001b[0m \u001b[43mplot\u001b[49m\u001b[38;5;241m.\u001b[39mshow()\n",
      "\u001b[0;31mNameError\u001b[0m: name 'plot' is not defined"
     ]
    },
    {
     "data": {
      "image/png": "[encoded data removed]",
      "text/plain": [
       "<Figure size 640x480 with 1 Axes>"
      ]
     },
     "metadata": {},
     "output_type": "display_data"
    }
   ],
   "source": [
    "df_group['value'].hist(bins = 100)\n",
    "plot.show()"
   ]
  },
  {
   "cell_type": "code",
   "execution_count": 24,
   "id": "c87f49b0-fa47-4ee8-998d-d388a832a3f4",
   "metadata": {},
   "outputs": [
    {
     "data": {
      "text/plain": [
       "[]"
      ]
     },
     "execution_count": 24,
     "metadata": {},
     "output_type": "execute_result"
    },
    {
     "data": {
      "image/png": "[encoded data removed]",
      "text/plain": [
       "<Figure size 640x480 with 1 Axes>"
      ]
     },
     "metadata": {},
     "output_type": "display_data"
    }
   ],
   "source": [
    "b_plot = df_group.boxplot(column = 'value') \n",
    "b_plot.plot()"
   ]
  },
  {
   "cell_type": "code",
   "execution_count": 26,
   "id": "aecb2f35-5427-42cb-8c02-50f7e638deb0",
   "metadata": {},
   "outputs": [
    {
     "data": {
      "text/plain": [
       "1       792\n",
       "2       298\n",
       "3       210\n",
       "4       153\n",
       "5       124\n",
       "       ... \n",
       "1211      1\n",
       "756       1\n",
       "2298      1\n",
       "724       1\n",
       "969       1\n",
       "Name: value, Length: 1014, dtype: int64"
      ]
     },
     "execution_count": 26,
     "metadata": {},
     "output_type": "execute_result"
    }
   ],
   "source": [
    "df_group['value'].sort_index().value_counts()"
   ]
  },
  {
   "cell_type": "code",
   "execution_count": 28,
   "id": "51a53534-4af6-44dd-af0b-d994d0e8e0d0",
   "metadata": {},
   "outputs": [],
   "source": [
    "df_group.to_csv('df_groupby_final.csv')"
   ]
  },
  {
   "cell_type": "code",
   "execution_count": 30,
   "id": "8b4ab764-c687-452f-b53c-131d41ae9257",
   "metadata": {},
   "outputs": [
    {
     "data": {
      "text/html": [
       "<div>\n",
       "<style scoped>\n",
       "    .dataframe tbody tr th:only-of-type {\n",
       "        vertical-align: middle;\n",
       "    }\n",
       "\n",
       "    .dataframe tbody tr th {\n",
       "        vertical-align: top;\n",
       "    }\n",
       "\n",
       "    .dataframe thead th {\n",
       "        text-align: right;\n",
       "    }\n",
       "</style>\n",
       "<table border=\"1\" class=\"dataframe\">\n",
       "  <thead>\n",
       "    <tr style=\"text-align: right;\">\n",
       "      <th></th>\n",
       "      <th>start_station_name</th>\n",
       "      <th>end_station_name</th>\n",
       "      <th>value</th>\n",
       "    </tr>\n",
       "  </thead>\n",
       "  <tbody>\n",
       "    <tr>\n",
       "      <th>0</th>\n",
       "      <td>11 St &amp; Washington St</td>\n",
       "      <td>10 Ave &amp; W 14 St</td>\n",
       "      <td>1</td>\n",
       "    </tr>\n",
       "    <tr>\n",
       "      <th>1</th>\n",
       "      <td>11 St &amp; Washington St</td>\n",
       "      <td>11 St &amp; Washington St</td>\n",
       "      <td>2571</td>\n",
       "    </tr>\n",
       "    <tr>\n",
       "      <th>2</th>\n",
       "      <td>11 St &amp; Washington St</td>\n",
       "      <td>12 Ave &amp; W 40 St</td>\n",
       "      <td>2</td>\n",
       "    </tr>\n",
       "    <tr>\n",
       "      <th>3</th>\n",
       "      <td>11 St &amp; Washington St</td>\n",
       "      <td>12 St &amp; Sinatra Dr N</td>\n",
       "      <td>348</td>\n",
       "    </tr>\n",
       "    <tr>\n",
       "      <th>4</th>\n",
       "      <td>11 St &amp; Washington St</td>\n",
       "      <td>14 St Ferry - 14 St &amp; Shipyard Ln</td>\n",
       "      <td>659</td>\n",
       "    </tr>\n",
       "  </tbody>\n",
       "</table>\n",
       "</div>"
      ],
      "text/plain": [
       "      start_station_name                   end_station_name  value\n",
       "0  11 St & Washington St                   10 Ave & W 14 St      1\n",
       "1  11 St & Washington St              11 St & Washington St   2571\n",
       "2  11 St & Washington St                   12 Ave & W 40 St      2\n",
       "3  11 St & Washington St               12 St & Sinatra Dr N    348\n",
       "4  11 St & Washington St  14 St Ferry - 14 St & Shipyard Ln    659"
      ]
     },
     "execution_count": 30,
     "metadata": {},
     "output_type": "execute_result"
    }
   ],
   "source": [
    "df_group.head()"
   ]
  },
  {
   "cell_type": "code",
   "execution_count": 32,
   "id": "01836a12-fcc2-4901-9b7b-bb12192d3cd4",
   "metadata": {},
   "outputs": [],
   "source": [
    "df = df[['start_station_name','bike_rides_daily_x', 'end_station_name', 'start_lat', 'start_lng', 'end_lat', 'end_lng']]"
   ]
  },
  {
   "cell_type": "code",
   "execution_count": 34,
   "id": "17deb6ec-75a5-45bd-8082-ccdc3b89bbaa",
   "metadata": {},
   "outputs": [
    {
     "data": {
      "text/html": [
       "<div>\n",
       "<style scoped>\n",
       "    .dataframe tbody tr th:only-of-type {\n",
       "        vertical-align: middle;\n",
       "    }\n",
       "\n",
       "    .dataframe tbody tr th {\n",
       "        vertical-align: top;\n",
       "    }\n",
       "\n",
       "    .dataframe thead th {\n",
       "        text-align: right;\n",
       "    }\n",
       "</style>\n",
       "<table border=\"1\" class=\"dataframe\">\n",
       "  <thead>\n",
       "    <tr style=\"text-align: right;\">\n",
       "      <th></th>\n",
       "      <th>start_station_name</th>\n",
       "      <th>bike_rides_daily_x</th>\n",
       "      <th>end_station_name</th>\n",
       "      <th>start_lat</th>\n",
       "      <th>start_lng</th>\n",
       "      <th>end_lat</th>\n",
       "      <th>end_lng</th>\n",
       "    </tr>\n",
       "  </thead>\n",
       "  <tbody>\n",
       "    <tr>\n",
       "      <th>0</th>\n",
       "      <td>11 St &amp; Washington St</td>\n",
       "      <td>2024</td>\n",
       "      <td>Columbus Park - Clinton St &amp; 9 St</td>\n",
       "      <td>40.749984</td>\n",
       "      <td>-74.027150</td>\n",
       "      <td>40.748161</td>\n",
       "      <td>-74.032453</td>\n",
       "    </tr>\n",
       "    <tr>\n",
       "      <th>1</th>\n",
       "      <td>8 St &amp; Washington St</td>\n",
       "      <td>2024</td>\n",
       "      <td>Columbus Park - Clinton St &amp; 9 St</td>\n",
       "      <td>40.745983</td>\n",
       "      <td>-74.028199</td>\n",
       "      <td>40.748161</td>\n",
       "      <td>-74.032453</td>\n",
       "    </tr>\n",
       "    <tr>\n",
       "      <th>2</th>\n",
       "      <td>11 St &amp; Washington St</td>\n",
       "      <td>2024</td>\n",
       "      <td>Hoboken Terminal - River St &amp; Hudson Pl</td>\n",
       "      <td>40.749984</td>\n",
       "      <td>-74.027150</td>\n",
       "      <td>40.736068</td>\n",
       "      <td>-74.029127</td>\n",
       "    </tr>\n",
       "    <tr>\n",
       "      <th>3</th>\n",
       "      <td>11 St &amp; Washington St</td>\n",
       "      <td>2024</td>\n",
       "      <td>Hoboken Terminal - River St &amp; Hudson Pl</td>\n",
       "      <td>40.749984</td>\n",
       "      <td>-74.027150</td>\n",
       "      <td>40.736068</td>\n",
       "      <td>-74.029127</td>\n",
       "    </tr>\n",
       "    <tr>\n",
       "      <th>4</th>\n",
       "      <td>11 St &amp; Washington St</td>\n",
       "      <td>2024</td>\n",
       "      <td>Hoboken Terminal - River St &amp; Hudson Pl</td>\n",
       "      <td>40.749984</td>\n",
       "      <td>-74.027150</td>\n",
       "      <td>40.736068</td>\n",
       "      <td>-74.029127</td>\n",
       "    </tr>\n",
       "    <tr>\n",
       "      <th>...</th>\n",
       "      <td>...</td>\n",
       "      <td>...</td>\n",
       "      <td>...</td>\n",
       "      <td>...</td>\n",
       "      <td>...</td>\n",
       "      <td>...</td>\n",
       "      <td>...</td>\n",
       "    </tr>\n",
       "    <tr>\n",
       "      <th>1388893</th>\n",
       "      <td>Harborside</td>\n",
       "      <td>1751</td>\n",
       "      <td>Jersey &amp; 3rd</td>\n",
       "      <td>40.719252</td>\n",
       "      <td>-74.034234</td>\n",
       "      <td>40.723332</td>\n",
       "      <td>-74.045953</td>\n",
       "    </tr>\n",
       "    <tr>\n",
       "      <th>1388894</th>\n",
       "      <td>Grove St PATH</td>\n",
       "      <td>1751</td>\n",
       "      <td>Jersey &amp; 3rd</td>\n",
       "      <td>40.719586</td>\n",
       "      <td>-74.043117</td>\n",
       "      <td>40.723332</td>\n",
       "      <td>-74.045953</td>\n",
       "    </tr>\n",
       "    <tr>\n",
       "      <th>1388895</th>\n",
       "      <td>Grove St PATH</td>\n",
       "      <td>1751</td>\n",
       "      <td>Jersey &amp; 3rd</td>\n",
       "      <td>40.719586</td>\n",
       "      <td>-74.043117</td>\n",
       "      <td>40.723332</td>\n",
       "      <td>-74.045953</td>\n",
       "    </tr>\n",
       "    <tr>\n",
       "      <th>1388896</th>\n",
       "      <td>Jersey &amp; 6th St</td>\n",
       "      <td>1751</td>\n",
       "      <td>Jersey &amp; 3rd</td>\n",
       "      <td>40.725289</td>\n",
       "      <td>-74.045572</td>\n",
       "      <td>40.723332</td>\n",
       "      <td>-74.045953</td>\n",
       "    </tr>\n",
       "    <tr>\n",
       "      <th>1388897</th>\n",
       "      <td>Hoboken Terminal - Hudson St &amp; Hudson Pl</td>\n",
       "      <td>1751</td>\n",
       "      <td>McGinley Square</td>\n",
       "      <td>40.735938</td>\n",
       "      <td>-74.030305</td>\n",
       "      <td>40.725340</td>\n",
       "      <td>-74.067622</td>\n",
       "    </tr>\n",
       "  </tbody>\n",
       "</table>\n",
       "<p>1388898 rows × 7 columns</p>\n",
       "</div>"
      ],
      "text/plain": [
       "                               start_station_name  bike_rides_daily_x  \\\n",
       "0                           11 St & Washington St                2024   \n",
       "1                            8 St & Washington St                2024   \n",
       "2                           11 St & Washington St                2024   \n",
       "3                           11 St & Washington St                2024   \n",
       "4                           11 St & Washington St                2024   \n",
       "...                                           ...                 ...   \n",
       "1388893                                Harborside                1751   \n",
       "1388894                             Grove St PATH                1751   \n",
       "1388895                             Grove St PATH                1751   \n",
       "1388896                           Jersey & 6th St                1751   \n",
       "1388897  Hoboken Terminal - Hudson St & Hudson Pl                1751   \n",
       "\n",
       "                                end_station_name  start_lat  start_lng  \\\n",
       "0              Columbus Park - Clinton St & 9 St  40.749984 -74.027150   \n",
       "1              Columbus Park - Clinton St & 9 St  40.745983 -74.028199   \n",
       "2        Hoboken Terminal - River St & Hudson Pl  40.749984 -74.027150   \n",
       "3        Hoboken Terminal - River St & Hudson Pl  40.749984 -74.027150   \n",
       "4        Hoboken Terminal - River St & Hudson Pl  40.749984 -74.027150   \n",
       "...                                          ...        ...        ...   \n",
       "1388893                             Jersey & 3rd  40.719252 -74.034234   \n",
       "1388894                             Jersey & 3rd  40.719586 -74.043117   \n",
       "1388895                             Jersey & 3rd  40.719586 -74.043117   \n",
       "1388896                             Jersey & 3rd  40.725289 -74.045572   \n",
       "1388897                          McGinley Square  40.735938 -74.030305   \n",
       "\n",
       "           end_lat    end_lng  \n",
       "0        40.748161 -74.032453  \n",
       "1        40.748161 -74.032453  \n",
       "2        40.736068 -74.029127  \n",
       "3        40.736068 -74.029127  \n",
       "4        40.736068 -74.029127  \n",
       "...            ...        ...  \n",
       "1388893  40.723332 -74.045953  \n",
       "1388894  40.723332 -74.045953  \n",
       "1388895  40.723332 -74.045953  \n",
       "1388896  40.723332 -74.045953  \n",
       "1388897  40.725340 -74.067622  \n",
       "\n",
       "[1388898 rows x 7 columns]"
      ]
     },
     "execution_count": 34,
     "metadata": {},
     "output_type": "execute_result"
    }
   ],
   "source": [
    "df"
   ]
  },
  {
   "cell_type": "code",
   "execution_count": 36,
   "id": "78b885c0-7a84-425e-863e-1bb87fd1743f",
   "metadata": {},
   "outputs": [
    {
     "data": {
      "text/plain": [
       "9298"
      ]
     },
     "execution_count": 36,
     "metadata": {},
     "output_type": "execute_result"
    }
   ],
   "source": [
    "import gc # this is garbage collector - speeds up performance\n",
    "gc.collect()"
   ]
  },
  {
   "cell_type": "code",
   "execution_count": 38,
   "id": "fe014082-3f98-4e2e-bbed-38976b042cf3",
   "metadata": {},
   "outputs": [],
   "source": [
    "df.to_csv('df_locations_for_map.csv')"
   ]
  },
  {
   "cell_type": "code",
   "execution_count": 39,
   "id": "1949cafa-8099-405e-93e5-800f45851ef8",
   "metadata": {},
   "outputs": [
    {
     "name": "stdout",
     "output_type": "stream",
     "text": [
      "User Guide: https://docs.kepler.gl/docs/keplergl-jupyter\n"
     ]
    },
    {
     "name": "stderr",
     "output_type": "stream",
     "text": [
      "/opt/anaconda3/envs/venv2.5/lib/python3.9/site-packages/jupyter_client/session.py:721: UserWarning: Message serialization failed with:\n",
      "Out of range float values are not JSON compliant\n",
      "Supporting this message is deprecated in jupyter-client 7, please make sure your message is JSON-compliant\n",
      "  content = self.pack(content)\n"
     ]
    }
   ],
   "source": [
    "# Create KeplerGl instance\n",
    "\n",
    "m = KeplerGl(height = 500, data={\"data_1\": df})\n"
   ]
  },
  {
   "cell_type": "code",
   "execution_count": 44,
   "id": "7ed6eb3b-76ba-49fb-ad86-ecfccfce53a9",
   "metadata": {},
   "outputs": [],
   "source": [
    "new_york_view = {\n",
    "\"version\": \"v1\",\n",
    "\"config\": {\n",
    "\"mapState\": {\n",
    "\"latitude\": 40.7128,\n",
    "\"longitude\": -74.0060,\n",
    "\"zoom\": 10,\n",
    "\n",
    "    }\n",
    "}\n",
    "}\n",
    "m.config = new_york_view"
   ]
  },
  {
   "cell_type": "code",
   "execution_count": 46,
   "id": "3cb18489-7e24-4312-bd5e-6dcda799e8e7",
   "metadata": {},
   "outputs": [],
   "source": [
    "config = m.config"
   ]
  },
  {
   "cell_type": "code",
   "execution_count": 48,
   "id": "add8dd7c-4a3c-4c4a-b486-7a9c5197fcd7",
   "metadata": {},
   "outputs": [
    {
     "name": "stdout",
     "output_type": "stream",
     "text": [
      "Map saved to kepler_map.html!\n"
     ]
    }
   ],
   "source": [
    "# Save Map\n",
    "m.save_to_html(file_name='kepler_map.html', read_only = False, config = config)"
   ]
  },
  {
   "cell_type": "code",
   "execution_count": 50,
   "id": "bfeb4fa9-eff4-4ed0-88bb-17a1f6872e42",
   "metadata": {},
   "outputs": [],
   "source": [
    "import json\n",
    "with open(\"config.json\", \"w\") as outfile:\n",
    "    json.dump(config, outfile)"
   ]
  },
  {
   "cell_type": "code",
   "execution_count": null,
   "id": "765f1149-abc0-4e6a-9dc6-8cdb7d11d941",
   "metadata": {},
   "outputs": [],
   "source": []
  }
 ],
 "metadata": {
  "kernelspec": {
   "display_name": "Python [conda env:venv2.5]",
   "language": "python",
   "name": "conda-env-venv2.5-py"
  },
  "language_info": {
   "codemirror_mode": {
    "name": "ipython",
    "version": 3
   },
   "file_extension": ".py",
   "mimetype": "text/x-python",
   "name": "python",
   "nbconvert_exporter": "python",
   "pygments_lexer": "ipython3",
   "version": "3.9.20"
  }
 },
 "nbformat": 4,
 "nbformat_minor": 5
}
